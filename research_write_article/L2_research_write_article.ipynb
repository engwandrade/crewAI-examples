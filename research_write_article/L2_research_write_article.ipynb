{
 "cells": [
  {
   "cell_type": "markdown",
   "metadata": {},
   "source": [
    "You can download the `requirements.txt` for this course from the workspace of this lab. `File --> Open...`"
   ]
  },
  {
   "cell_type": "markdown",
   "metadata": {},
   "source": [
    "# L2: Create Agents to Research and Write an Article\n",
    "\n",
    "In this lesson, you will be introduced to the foundational concepts of multi-agent systems and get an overview of the crewAI framework."
   ]
  },
  {
   "cell_type": "markdown",
   "metadata": {},
   "source": [
    "The libraries are already installed in the classroom. If you're running this notebook on your own machine, you can install the following:\n",
    "```Python\n",
    "!pip install crewai==0.28.8 crewai_tools==0.1.6 langchain_community==0.0.29\n",
    "```"
   ]
  },
  {
   "cell_type": "code",
   "execution_count": 1,
   "metadata": {
    "height": 63
   },
   "outputs": [],
   "source": [
    "# Warning control\n",
    "import warnings\n",
    "warnings.filterwarnings('ignore')"
   ]
  },
  {
   "cell_type": "markdown",
   "metadata": {},
   "source": [
    "- Import from the crewAI libray."
   ]
  },
  {
   "cell_type": "code",
   "execution_count": 2,
   "metadata": {
    "height": 29
   },
   "outputs": [],
   "source": [
    "from crewai import Agent, Task, Crew"
   ]
  },
  {
   "cell_type": "markdown",
   "metadata": {},
   "source": [
    "- As a LLM for your agents, you'll be using OpenAI's `gpt-3.5-turbo`.\n",
    "\n",
    "**Optional Note:** crewAI also allow other popular models to be used as a LLM for your Agents. You can see some of the examples at the [bottom of the notebook](#1)."
   ]
  },
  {
   "cell_type": "code",
   "execution_count": 3,
   "metadata": {
    "height": 97
   },
   "outputs": [],
   "source": [
    "import os\n",
    "from utils import get_openai_api_key\n",
    "\n",
    "openai_api_key = get_openai_api_key()\n",
    "os.environ[\"OPENAI_MODEL_NAME\"] = 'gpt-3.5-turbo'"
   ]
  },
  {
   "cell_type": "markdown",
   "metadata": {},
   "source": [
    "## Creating Agents\n",
    "\n",
    "- Define your Agents, and provide them a `role`, `goal` and `backstory`.\n",
    "- It has been seen that LLMs perform better when they are role playing."
   ]
  },
  {
   "cell_type": "markdown",
   "metadata": {},
   "source": [
    "### Agent: Planner\n",
    "\n",
    "**Note**: The benefit of using _multiple strings_ :\n",
    "```Python\n",
    "varname = \"line 1 of text\"\n",
    "          \"line 2 of text\"\n",
    "```\n",
    "\n",
    "versus the _triple quote docstring_:\n",
    "```Python\n",
    "varname = \"\"\"line 1 of text\n",
    "             line 2 of text\n",
    "          \"\"\"\n",
    "```\n",
    "is that it can avoid adding those whitespaces and newline characters, making it better formatted to be passed to the LLM."
   ]
  },
  {
   "cell_type": "code",
   "execution_count": 4,
   "metadata": {
    "height": 233
   },
   "outputs": [],
   "source": [
    "planner = Agent(\n",
    "    role=\"Content Planner\",\n",
    "    goal=\"Plan engaging and factually accurate content on {topic}\",\n",
    "    backstory=\"You're working on planning a blog article \"\n",
    "              \"about the topic: {topic}.\"\n",
    "              \"You collect information that helps the \"\n",
    "              \"audience learn something \"\n",
    "              \"and make informed decisions. \"\n",
    "              \"Your work is the basis for \"\n",
    "              \"the Content Writer to write an article on this topic.\",\n",
    "    allow_delegation=False,\n",
    "\tverbose=True\n",
    ")"
   ]
  },
  {
   "cell_type": "markdown",
   "metadata": {},
   "source": [
    "### Agent: Writer"
   ]
  },
  {
   "cell_type": "code",
   "execution_count": 5,
   "metadata": {
    "height": 369
   },
   "outputs": [],
   "source": [
    "writer = Agent(\n",
    "    role=\"Content Writer\",\n",
    "    goal=\"Write insightful and factually accurate \"\n",
    "         \"opinion piece about the topic: {topic}\",\n",
    "    backstory=\"You're working on a writing \"\n",
    "              \"a new opinion piece about the topic: {topic}. \"\n",
    "              \"You base your writing on the work of \"\n",
    "              \"the Content Planner, who provides an outline \"\n",
    "              \"and relevant context about the topic. \"\n",
    "              \"You follow the main objectives and \"\n",
    "              \"direction of the outline, \"\n",
    "              \"as provide by the Content Planner. \"\n",
    "              \"You also provide objective and impartial insights \"\n",
    "              \"and back them up with information \"\n",
    "              \"provide by the Content Planner. \"\n",
    "              \"You acknowledge in your opinion piece \"\n",
    "              \"when your statements are opinions \"\n",
    "              \"as opposed to objective statements.\",\n",
    "    allow_delegation=False,\n",
    "    verbose=True\n",
    ")"
   ]
  },
  {
   "cell_type": "markdown",
   "metadata": {},
   "source": [
    "### Agent: Editor"
   ]
  },
  {
   "cell_type": "code",
   "execution_count": 6,
   "metadata": {
    "height": 267
   },
   "outputs": [],
   "source": [
    "editor = Agent(\n",
    "    role=\"Editor\",\n",
    "    goal=\"Edit a given blog post to align with \"\n",
    "         \"the writing style of the organization. \",\n",
    "    backstory=\"You are an editor who receives a blog post \"\n",
    "              \"from the Content Writer. \"\n",
    "              \"Your goal is to review the blog post \"\n",
    "              \"to ensure that it follows journalistic best practices,\"\n",
    "              \"provides balanced viewpoints \"\n",
    "              \"when providing opinions or assertions, \"\n",
    "              \"and also avoids major controversial topics \"\n",
    "              \"or opinions when possible.\",\n",
    "    allow_delegation=False,\n",
    "    verbose=True\n",
    ")"
   ]
  },
  {
   "cell_type": "markdown",
   "metadata": {},
   "source": [
    "## Creating Tasks\n",
    "\n",
    "- Define your Tasks, and provide them a `description`, `expected_output` and `agent`."
   ]
  },
  {
   "cell_type": "markdown",
   "metadata": {},
   "source": [
    "### Task: Plan"
   ]
  },
  {
   "cell_type": "code",
   "execution_count": 7,
   "metadata": {
    "height": 267
   },
   "outputs": [],
   "source": [
    "plan = Task(\n",
    "    description=(\n",
    "        \"1. Prioritize the latest trends, key players, \"\n",
    "            \"and noteworthy news on {topic}.\\n\"\n",
    "        \"2. Identify the target audience, considering \"\n",
    "            \"their interests and pain points.\\n\"\n",
    "        \"3. Develop a detailed content outline including \"\n",
    "            \"an introduction, key points, and a call to action.\\n\"\n",
    "        \"4. Include SEO keywords and relevant data or sources.\"\n",
    "    ),\n",
    "    expected_output=\"A comprehensive content plan document \"\n",
    "        \"with an outline, audience analysis, \"\n",
    "        \"SEO keywords, and resources.\",\n",
    "    agent=planner,\n",
    ")"
   ]
  },
  {
   "cell_type": "markdown",
   "metadata": {},
   "source": [
    "### Task: Write"
   ]
  },
  {
   "cell_type": "code",
   "execution_count": 8,
   "metadata": {
    "height": 318
   },
   "outputs": [],
   "source": [
    "write = Task(\n",
    "    description=(\n",
    "        \"1. Use the content plan to craft a compelling \"\n",
    "            \"blog post on {topic}.\\n\"\n",
    "        \"2. Incorporate SEO keywords naturally.\\n\"\n",
    "\t\t\"3. Sections/Subtitles are properly named \"\n",
    "            \"in an engaging manner.\\n\"\n",
    "        \"4. Ensure the post is structured with an \"\n",
    "            \"engaging introduction, insightful body, \"\n",
    "            \"and a summarizing conclusion.\\n\"\n",
    "        \"5. Proofread for grammatical errors and \"\n",
    "            \"alignment with the brand's voice.\\n\"\n",
    "    ),\n",
    "    expected_output=\"A well-written blog post \"\n",
    "        \"in markdown format, ready for publication, \"\n",
    "        \"each section should have 2 or 3 paragraphs.\",\n",
    "    agent=writer,\n",
    ")"
   ]
  },
  {
   "cell_type": "markdown",
   "metadata": {},
   "source": [
    "### Task: Edit"
   ]
  },
  {
   "cell_type": "code",
   "execution_count": 9,
   "metadata": {
    "height": 165
   },
   "outputs": [],
   "source": [
    "edit = Task(\n",
    "    description=(\"Proofread the given blog post for \"\n",
    "                 \"grammatical errors and \"\n",
    "                 \"alignment with the brand's voice.\"),\n",
    "    expected_output=\"A well-written blog post in markdown format, \"\n",
    "                    \"ready for publication, \"\n",
    "                    \"each section should have 2 or 3 paragraphs.\",\n",
    "    agent=editor\n",
    ")"
   ]
  },
  {
   "cell_type": "markdown",
   "metadata": {},
   "source": [
    "## Creating the Crew\n",
    "\n",
    "- Create your crew of Agents\n",
    "- Pass the tasks to be performed by those agents.\n",
    "    - **Note**: *For this simple example*, the tasks will be performed sequentially (i.e they are dependent on each other), so the _order_ of the task in the list _matters_.\n",
    "- `verbose=2` allows you to see all the logs of the execution. "
   ]
  },
  {
   "cell_type": "code",
   "execution_count": 10,
   "metadata": {
    "height": 97
   },
   "outputs": [],
   "source": [
    "crew = Crew(\n",
    "    agents=[planner, writer, editor],\n",
    "    tasks=[plan, write, edit],\n",
    "    verbose=2\n",
    ")"
   ]
  },
  {
   "cell_type": "markdown",
   "metadata": {},
   "source": [
    "## Running the Crew"
   ]
  },
  {
   "cell_type": "markdown",
   "metadata": {},
   "source": [
    "**Note**: LLMs can provide different outputs for they same input, so what you get might be different than what you see in the video."
   ]
  },
  {
   "cell_type": "code",
   "execution_count": 11,
   "metadata": {
    "height": 29
   },
   "outputs": [
    {
     "name": "stdout",
     "output_type": "stream",
     "text": [
      "\u001b[1m\u001b[95m [DEBUG]: == Working Agent: Content Planner\u001b[00m\n",
      "\u001b[1m\u001b[95m [INFO]: == Starting Task: 1. Prioritize the latest trends, key players, and noteworthy news on Artificial Intelligence.\n",
      "2. Identify the target audience, considering their interests and pain points.\n",
      "3. Develop a detailed content outline including an introduction, key points, and a call to action.\n",
      "4. Include SEO keywords and relevant data or sources.\u001b[00m\n",
      "\n",
      "\n",
      "\u001b[1m> Entering new CrewAgentExecutor chain...\u001b[0m\n",
      "\u001b[32;1m\u001b[1;3mI now can give a great answer\n",
      "\n",
      "Final Answer:\n",
      "\n",
      "Content Plan: \n",
      "\n",
      "Title: The Future of Artificial Intelligence: Trends, Players, and News\n",
      "\n",
      "Outline:\n",
      "\n",
      "I. Introduction\n",
      "- Definition of Artificial Intelligence\n",
      "- Importance of AI in various industries\n",
      "- Brief overview of the latest trends in AI\n",
      "\n",
      "II. Latest Trends in Artificial Intelligence\n",
      "- Machine learning advancements\n",
      "- Natural language processing developments\n",
      "- AI in healthcare\n",
      "- AI ethics and regulations\n",
      "\n",
      "III. Key Players in the AI Industry\n",
      "- Leading companies in AI technology\n",
      "- Profiles of key executives in the AI sector\n",
      "- Collaboration and competition among major players\n",
      "\n",
      "IV. Noteworthy News in Artificial Intelligence\n",
      "- Recent breakthroughs in AI research\n",
      "- Impact of AI on job market\n",
      "- AI applications in solving global challenges\n",
      "- Future predictions for AI technology\n",
      "\n",
      "V. Target Audience Analysis\n",
      "- Tech enthusiasts interested in AI innovations\n",
      "- Business professionals looking to implement AI solutions\n",
      "- Students and researchers in the field of artificial intelligence\n",
      "- General audience curious about the future of AI\n",
      "\n",
      "VI. SEO Keywords\n",
      "- Artificial Intelligence trends\n",
      "- Top AI companies\n",
      "- Latest news in AI technology\n",
      "- Future of artificial intelligence\n",
      "- Artificial Intelligence innovations\n",
      "\n",
      "VII. Resources\n",
      "- Reports from industry analysts and research firms\n",
      "- Interviews with AI experts and thought leaders\n",
      "- Case studies on successful AI implementations\n",
      "- Surveys and studies on public perception of AI\n",
      "- Academic papers and journals on AI advancements\n",
      "\n",
      "Call to Action: Stay informed about the latest trends in artificial intelligence by subscribing to our newsletter for regular updates and insights. \n",
      "\n",
      "By following this comprehensive content plan, we aim to provide valuable information to our audience on the current landscape of artificial intelligence, helping them stay informed and make informed decisions in this rapidly evolving field.\u001b[0m\n",
      "\n",
      "\u001b[1m> Finished chain.\u001b[0m\n",
      "\u001b[1m\u001b[92m [DEBUG]: == [Content Planner] Task output: Content Plan: \n",
      "\n",
      "Title: The Future of Artificial Intelligence: Trends, Players, and News\n",
      "\n",
      "Outline:\n",
      "\n",
      "I. Introduction\n",
      "- Definition of Artificial Intelligence\n",
      "- Importance of AI in various industries\n",
      "- Brief overview of the latest trends in AI\n",
      "\n",
      "II. Latest Trends in Artificial Intelligence\n",
      "- Machine learning advancements\n",
      "- Natural language processing developments\n",
      "- AI in healthcare\n",
      "- AI ethics and regulations\n",
      "\n",
      "III. Key Players in the AI Industry\n",
      "- Leading companies in AI technology\n",
      "- Profiles of key executives in the AI sector\n",
      "- Collaboration and competition among major players\n",
      "\n",
      "IV. Noteworthy News in Artificial Intelligence\n",
      "- Recent breakthroughs in AI research\n",
      "- Impact of AI on job market\n",
      "- AI applications in solving global challenges\n",
      "- Future predictions for AI technology\n",
      "\n",
      "V. Target Audience Analysis\n",
      "- Tech enthusiasts interested in AI innovations\n",
      "- Business professionals looking to implement AI solutions\n",
      "- Students and researchers in the field of artificial intelligence\n",
      "- General audience curious about the future of AI\n",
      "\n",
      "VI. SEO Keywords\n",
      "- Artificial Intelligence trends\n",
      "- Top AI companies\n",
      "- Latest news in AI technology\n",
      "- Future of artificial intelligence\n",
      "- Artificial Intelligence innovations\n",
      "\n",
      "VII. Resources\n",
      "- Reports from industry analysts and research firms\n",
      "- Interviews with AI experts and thought leaders\n",
      "- Case studies on successful AI implementations\n",
      "- Surveys and studies on public perception of AI\n",
      "- Academic papers and journals on AI advancements\n",
      "\n",
      "Call to Action: Stay informed about the latest trends in artificial intelligence by subscribing to our newsletter for regular updates and insights. \n",
      "\n",
      "By following this comprehensive content plan, we aim to provide valuable information to our audience on the current landscape of artificial intelligence, helping them stay informed and make informed decisions in this rapidly evolving field.\n",
      "\n",
      "\u001b[00m\n",
      "\u001b[1m\u001b[95m [DEBUG]: == Working Agent: Content Writer\u001b[00m\n",
      "\u001b[1m\u001b[95m [INFO]: == Starting Task: 1. Use the content plan to craft a compelling blog post on Artificial Intelligence.\n",
      "2. Incorporate SEO keywords naturally.\n",
      "3. Sections/Subtitles are properly named in an engaging manner.\n",
      "4. Ensure the post is structured with an engaging introduction, insightful body, and a summarizing conclusion.\n",
      "5. Proofread for grammatical errors and alignment with the brand's voice.\n",
      "\u001b[00m\n",
      "\n",
      "\n",
      "\u001b[1m> Entering new CrewAgentExecutor chain...\u001b[0m\n",
      "\u001b[32;1m\u001b[1;3mI now can give a great answer.\n",
      "\n",
      "Final Answer:\n",
      "\n",
      "# The Future of Artificial Intelligence: Trends, Players, and News\n",
      "\n",
      "## Introduction\n",
      "\n",
      "Artificial Intelligence (AI) has become a crucial component in various industries, revolutionizing the way tasks are performed and decisions are made. With the ability to analyze vast amounts of data and make predictions based on patterns, AI has the potential to transform businesses and improve efficiency. The latest trends in AI, from machine learning advancements to natural language processing developments, are shaping the future of technology and opening up new possibilities for innovation.\n",
      "\n",
      "## Latest Trends in Artificial Intelligence\n",
      "\n",
      "Machine learning, a subset of AI, is making significant advancements in areas such as predictive analytics and autonomous systems. Natural language processing, another key aspect of AI, is improving communication between humans and machines, leading to more intuitive interactions. In the healthcare sector, AI is being used to analyze medical images, predict disease outbreaks, and personalize patient care. However, as AI becomes more prevalent, the need for ethical guidelines and regulations to govern its use is becoming increasingly urgent.\n",
      "\n",
      "## Key Players in the AI Industry\n",
      "\n",
      "Leading companies in the AI technology sector, such as Google, Amazon, and Microsoft, are investing heavily in research and development to stay ahead of the competition. Key executives in the AI sector, such as Sundar Pichai of Google and Satya Nadella of Microsoft, are driving innovation and shaping the future of technology. Collaboration and competition among major players are driving advancements in AI, leading to new breakthroughs and applications across various industries.\n",
      "\n",
      "## Noteworthy News in Artificial Intelligence\n",
      "\n",
      "Recent breakthroughs in AI research, such as the development of self-learning algorithms and neural networks, are pushing the boundaries of what is possible with AI technology. The impact of AI on the job market is a topic of concern, as automation and AI-powered systems are expected to replace certain roles while creating new opportunities in other areas. AI applications in solving global challenges, such as climate change and healthcare disparities, are offering innovative solutions to complex problems. Future predictions for AI technology include the integration of AI into everyday devices and the continued growth of the AI industry.\n",
      "\n",
      "## Target Audience Analysis\n",
      "\n",
      "Tech enthusiasts interested in AI innovations, business professionals looking to implement AI solutions, students and researchers in the field of artificial intelligence, and the general audience curious about the future of AI can all benefit from staying informed about the latest trends and developments in the AI industry. By subscribing to our newsletter, readers can receive regular updates and insights on the rapidly evolving field of artificial intelligence.\n",
      "\n",
      "In conclusion, artificial intelligence is shaping the future of technology and offering new possibilities for innovation across various industries. By staying informed about the latest trends, key players, and noteworthy news in the AI industry, individuals can make informed decisions and stay ahead of the curve in this rapidly evolving field. Stay informed and be part of the AI revolution by subscribing to our newsletter today.\u001b[0m\n",
      "\n",
      "\u001b[1m> Finished chain.\u001b[0m\n",
      "\u001b[1m\u001b[92m [DEBUG]: == [Content Writer] Task output: # The Future of Artificial Intelligence: Trends, Players, and News\n",
      "\n",
      "## Introduction\n",
      "\n",
      "Artificial Intelligence (AI) has become a crucial component in various industries, revolutionizing the way tasks are performed and decisions are made. With the ability to analyze vast amounts of data and make predictions based on patterns, AI has the potential to transform businesses and improve efficiency. The latest trends in AI, from machine learning advancements to natural language processing developments, are shaping the future of technology and opening up new possibilities for innovation.\n",
      "\n",
      "## Latest Trends in Artificial Intelligence\n",
      "\n",
      "Machine learning, a subset of AI, is making significant advancements in areas such as predictive analytics and autonomous systems. Natural language processing, another key aspect of AI, is improving communication between humans and machines, leading to more intuitive interactions. In the healthcare sector, AI is being used to analyze medical images, predict disease outbreaks, and personalize patient care. However, as AI becomes more prevalent, the need for ethical guidelines and regulations to govern its use is becoming increasingly urgent.\n",
      "\n",
      "## Key Players in the AI Industry\n",
      "\n",
      "Leading companies in the AI technology sector, such as Google, Amazon, and Microsoft, are investing heavily in research and development to stay ahead of the competition. Key executives in the AI sector, such as Sundar Pichai of Google and Satya Nadella of Microsoft, are driving innovation and shaping the future of technology. Collaboration and competition among major players are driving advancements in AI, leading to new breakthroughs and applications across various industries.\n",
      "\n",
      "## Noteworthy News in Artificial Intelligence\n",
      "\n",
      "Recent breakthroughs in AI research, such as the development of self-learning algorithms and neural networks, are pushing the boundaries of what is possible with AI technology. The impact of AI on the job market is a topic of concern, as automation and AI-powered systems are expected to replace certain roles while creating new opportunities in other areas. AI applications in solving global challenges, such as climate change and healthcare disparities, are offering innovative solutions to complex problems. Future predictions for AI technology include the integration of AI into everyday devices and the continued growth of the AI industry.\n",
      "\n",
      "## Target Audience Analysis\n",
      "\n",
      "Tech enthusiasts interested in AI innovations, business professionals looking to implement AI solutions, students and researchers in the field of artificial intelligence, and the general audience curious about the future of AI can all benefit from staying informed about the latest trends and developments in the AI industry. By subscribing to our newsletter, readers can receive regular updates and insights on the rapidly evolving field of artificial intelligence.\n",
      "\n",
      "In conclusion, artificial intelligence is shaping the future of technology and offering new possibilities for innovation across various industries. By staying informed about the latest trends, key players, and noteworthy news in the AI industry, individuals can make informed decisions and stay ahead of the curve in this rapidly evolving field. Stay informed and be part of the AI revolution by subscribing to our newsletter today.\n",
      "\n",
      "\u001b[00m\n",
      "\u001b[1m\u001b[95m [DEBUG]: == Working Agent: Editor\u001b[00m\n",
      "\u001b[1m\u001b[95m [INFO]: == Starting Task: Proofread the given blog post for grammatical errors and alignment with the brand's voice.\u001b[00m\n",
      "\n",
      "\n",
      "\u001b[1m> Entering new CrewAgentExecutor chain...\u001b[0m\n"
     ]
    },
    {
     "name": "stdout",
     "output_type": "stream",
     "text": [
      "\u001b[32;1m\u001b[1;3mI now can give a great answer\n",
      "\n",
      "Final Answer:\n",
      "# The Future of Artificial Intelligence: Trends, Players, and News\n",
      "\n",
      "## Introduction\n",
      "\n",
      "Artificial Intelligence (AI) has become a vital component in numerous industries, transforming the way tasks are executed and decisions are made. With the capability to analyze massive amounts of data and generate predictions based on patterns, AI holds the potential to revolutionize businesses and enhance efficiency. The current trends in AI, ranging from advancements in machine learning to developments in natural language processing, are molding the future of technology and creating new opportunities for innovation.\n",
      "\n",
      "## Latest Trends in Artificial Intelligence\n",
      "\n",
      "Machine learning, a subset of AI, is making significant progress in predictive analytics and autonomous systems. Natural language processing, another fundamental aspect of AI, is enhancing communication between humans and machines, resulting in more intuitive interactions. In the healthcare sector, AI is being utilized to analyze medical images, forecast disease outbreaks, and personalize patient care. However, as AI becomes more prevalent, the necessity for ethical guidelines and regulations to govern its utilization is becoming increasingly urgent.\n",
      "\n",
      "## Key Players in the AI Industry\n",
      "\n",
      "Prominent companies in the AI technology sector, such as Google, Amazon, and Microsoft, are heavily investing in research and development to maintain a competitive edge. Key executives in the AI sector, such as Sundar Pichai of Google and Satya Nadella of Microsoft, are spearheading innovation and shaping the future of technology. Collaboration and competition among major players are propelling advancements in AI, leading to novel breakthroughs and applications across diverse industries.\n",
      "\n",
      "## Noteworthy News in Artificial Intelligence\n",
      "\n",
      "Recent breakthroughs in AI research, including the advancement of self-learning algorithms and neural networks, are pushing the boundaries of what is achievable with AI technology. The impact of AI on the job market is a subject of concern, as automation and AI-driven systems are projected to replace certain roles while creating fresh opportunities in other areas. AI applications in addressing global challenges, such as climate change and healthcare disparities, are presenting innovative solutions to intricate problems. Future projections for AI technology encompass the integration of AI into everyday devices and the continuous expansion of the AI industry.\n",
      "\n",
      "## Target Audience Analysis\n",
      "\n",
      "Tech enthusiasts intrigued by AI innovations, business professionals seeking to implement AI solutions, students and researchers in the field of artificial intelligence, and the general audience curious about the future of AI can all gain valuable insights by staying abreast of the latest trends and developments in the AI industry. By subscribing to our newsletter, readers can receive regular updates and insights on the rapidly evolving field of artificial intelligence.\n",
      "\n",
      "In conclusion, artificial intelligence is shaping the future of technology and providing fresh opportunities for innovation across various industries. By keeping up with the latest trends, key players, and noteworthy news in the AI industry, individuals can make informed decisions and stay ahead in this rapidly evolving field. Stay informed and be part of the AI revolution by subscribing to our newsletter today.\u001b[0m\n",
      "\n",
      "\u001b[1m> Finished chain.\u001b[0m\n",
      "\u001b[1m\u001b[92m [DEBUG]: == [Editor] Task output: # The Future of Artificial Intelligence: Trends, Players, and News\n",
      "\n",
      "## Introduction\n",
      "\n",
      "Artificial Intelligence (AI) has become a vital component in numerous industries, transforming the way tasks are executed and decisions are made. With the capability to analyze massive amounts of data and generate predictions based on patterns, AI holds the potential to revolutionize businesses and enhance efficiency. The current trends in AI, ranging from advancements in machine learning to developments in natural language processing, are molding the future of technology and creating new opportunities for innovation.\n",
      "\n",
      "## Latest Trends in Artificial Intelligence\n",
      "\n",
      "Machine learning, a subset of AI, is making significant progress in predictive analytics and autonomous systems. Natural language processing, another fundamental aspect of AI, is enhancing communication between humans and machines, resulting in more intuitive interactions. In the healthcare sector, AI is being utilized to analyze medical images, forecast disease outbreaks, and personalize patient care. However, as AI becomes more prevalent, the necessity for ethical guidelines and regulations to govern its utilization is becoming increasingly urgent.\n",
      "\n",
      "## Key Players in the AI Industry\n",
      "\n",
      "Prominent companies in the AI technology sector, such as Google, Amazon, and Microsoft, are heavily investing in research and development to maintain a competitive edge. Key executives in the AI sector, such as Sundar Pichai of Google and Satya Nadella of Microsoft, are spearheading innovation and shaping the future of technology. Collaboration and competition among major players are propelling advancements in AI, leading to novel breakthroughs and applications across diverse industries.\n",
      "\n",
      "## Noteworthy News in Artificial Intelligence\n",
      "\n",
      "Recent breakthroughs in AI research, including the advancement of self-learning algorithms and neural networks, are pushing the boundaries of what is achievable with AI technology. The impact of AI on the job market is a subject of concern, as automation and AI-driven systems are projected to replace certain roles while creating fresh opportunities in other areas. AI applications in addressing global challenges, such as climate change and healthcare disparities, are presenting innovative solutions to intricate problems. Future projections for AI technology encompass the integration of AI into everyday devices and the continuous expansion of the AI industry.\n",
      "\n",
      "## Target Audience Analysis\n",
      "\n",
      "Tech enthusiasts intrigued by AI innovations, business professionals seeking to implement AI solutions, students and researchers in the field of artificial intelligence, and the general audience curious about the future of AI can all gain valuable insights by staying abreast of the latest trends and developments in the AI industry. By subscribing to our newsletter, readers can receive regular updates and insights on the rapidly evolving field of artificial intelligence.\n",
      "\n",
      "In conclusion, artificial intelligence is shaping the future of technology and providing fresh opportunities for innovation across various industries. By keeping up with the latest trends, key players, and noteworthy news in the AI industry, individuals can make informed decisions and stay ahead in this rapidly evolving field. Stay informed and be part of the AI revolution by subscribing to our newsletter today.\n",
      "\n",
      "\u001b[00m\n"
     ]
    }
   ],
   "source": [
    "result = crew.kickoff(inputs={\"topic\": \"Artificial Intelligence\"})"
   ]
  },
  {
   "cell_type": "markdown",
   "metadata": {},
   "source": [
    "- Display the results of your execution as markdown in the notebook."
   ]
  },
  {
   "cell_type": "code",
   "execution_count": 12,
   "metadata": {
    "height": 46
   },
   "outputs": [
    {
     "data": {
      "text/markdown": [
       "# The Future of Artificial Intelligence: Trends, Players, and News\n",
       "\n",
       "## Introduction\n",
       "\n",
       "Artificial Intelligence (AI) has become a vital component in numerous industries, transforming the way tasks are executed and decisions are made. With the capability to analyze massive amounts of data and generate predictions based on patterns, AI holds the potential to revolutionize businesses and enhance efficiency. The current trends in AI, ranging from advancements in machine learning to developments in natural language processing, are molding the future of technology and creating new opportunities for innovation.\n",
       "\n",
       "## Latest Trends in Artificial Intelligence\n",
       "\n",
       "Machine learning, a subset of AI, is making significant progress in predictive analytics and autonomous systems. Natural language processing, another fundamental aspect of AI, is enhancing communication between humans and machines, resulting in more intuitive interactions. In the healthcare sector, AI is being utilized to analyze medical images, forecast disease outbreaks, and personalize patient care. However, as AI becomes more prevalent, the necessity for ethical guidelines and regulations to govern its utilization is becoming increasingly urgent.\n",
       "\n",
       "## Key Players in the AI Industry\n",
       "\n",
       "Prominent companies in the AI technology sector, such as Google, Amazon, and Microsoft, are heavily investing in research and development to maintain a competitive edge. Key executives in the AI sector, such as Sundar Pichai of Google and Satya Nadella of Microsoft, are spearheading innovation and shaping the future of technology. Collaboration and competition among major players are propelling advancements in AI, leading to novel breakthroughs and applications across diverse industries.\n",
       "\n",
       "## Noteworthy News in Artificial Intelligence\n",
       "\n",
       "Recent breakthroughs in AI research, including the advancement of self-learning algorithms and neural networks, are pushing the boundaries of what is achievable with AI technology. The impact of AI on the job market is a subject of concern, as automation and AI-driven systems are projected to replace certain roles while creating fresh opportunities in other areas. AI applications in addressing global challenges, such as climate change and healthcare disparities, are presenting innovative solutions to intricate problems. Future projections for AI technology encompass the integration of AI into everyday devices and the continuous expansion of the AI industry.\n",
       "\n",
       "## Target Audience Analysis\n",
       "\n",
       "Tech enthusiasts intrigued by AI innovations, business professionals seeking to implement AI solutions, students and researchers in the field of artificial intelligence, and the general audience curious about the future of AI can all gain valuable insights by staying abreast of the latest trends and developments in the AI industry. By subscribing to our newsletter, readers can receive regular updates and insights on the rapidly evolving field of artificial intelligence.\n",
       "\n",
       "In conclusion, artificial intelligence is shaping the future of technology and providing fresh opportunities for innovation across various industries. By keeping up with the latest trends, key players, and noteworthy news in the AI industry, individuals can make informed decisions and stay ahead in this rapidly evolving field. Stay informed and be part of the AI revolution by subscribing to our newsletter today."
      ],
      "text/plain": [
       "<IPython.core.display.Markdown object>"
      ]
     },
     "execution_count": 12,
     "metadata": {},
     "output_type": "execute_result"
    }
   ],
   "source": [
    "from IPython.display import Markdown\n",
    "Markdown(result)"
   ]
  },
  {
   "cell_type": "markdown",
   "metadata": {},
   "source": [
    "## Try it Yourself\n",
    "\n",
    "- Pass in a topic of your choice and see what the agents come up with!"
   ]
  },
  {
   "cell_type": "code",
   "execution_count": 13,
   "metadata": {
    "height": 46
   },
   "outputs": [
    {
     "name": "stdout",
     "output_type": "stream",
     "text": [
      "\u001b[1m\u001b[95m [DEBUG]: == Working Agent: Content Planner\u001b[00m\n",
      "\u001b[1m\u001b[95m [INFO]: == Starting Task: 1. Prioritize the latest trends, key players, and noteworthy news on YOUR TOPIC HERE.\n",
      "2. Identify the target audience, considering their interests and pain points.\n",
      "3. Develop a detailed content outline including an introduction, key points, and a call to action.\n",
      "4. Include SEO keywords and relevant data or sources.\u001b[00m\n",
      "\n",
      "\n",
      "\u001b[1m> Entering new CrewAgentExecutor chain...\u001b[0m\n",
      "\u001b[32;1m\u001b[1;3mI now can give a great answer\n",
      "\n",
      "Final Answer: \n",
      "\n",
      "Content Plan:\n",
      "\n",
      "Title: Exploring the Latest Trends in Sustainable Fashion\n",
      "\n",
      "Introduction:\n",
      "- Brief overview of the growing importance of sustainable fashion in the industry\n",
      "- Introduce the key players and brands leading the way in sustainable practices\n",
      "\n",
      "Key Points:\n",
      "1. Latest Trends in Sustainable Fashion:\n",
      "- Focus on eco-friendly materials such as organic cotton, Tencel, and recycled fabrics\n",
      "- Highlight the rise of circular fashion and upcycling in the industry\n",
      "- Discuss the importance of transparency and ethical practices in supply chains\n",
      "\n",
      "2. Key Players in Sustainable Fashion:\n",
      "- Profile leading sustainable fashion brands such as Patagonia, Eileen Fisher, and Stella McCartney\n",
      "- Showcase collaborations between designers and sustainable initiatives\n",
      "\n",
      "3. Noteworthy News in Sustainable Fashion:\n",
      "- Cover recent developments in sustainable fashion technology, such as waterless dyeing and 3D knitting\n",
      "- Discuss the impact of COVID-19 on sustainable fashion practices and consumer awareness\n",
      "\n",
      "Call to Action:\n",
      "- Encourage readers to support sustainable fashion by shopping from ethical brands and educating themselves on sustainable practices\n",
      "- Provide resources for further reading and exploration of sustainable fashion\n",
      "\n",
      "SEO Keywords:\n",
      "- Sustainable fashion trends\n",
      "- Eco-friendly materials in fashion\n",
      "- Circular fashion practices\n",
      "- Ethical fashion brands\n",
      "- Sustainable fashion news\n",
      "\n",
      "Audience Analysis:\n",
      "Target Audience: Fashion enthusiasts, environmentally conscious consumers, and industry professionals\n",
      "Interests: Sustainable fashion, ethical consumerism, innovation in the fashion industry\n",
      "Pain Points: Lack of information on sustainable fashion options, desire to make ethical purchasing decisions\n",
      "\n",
      "Resources:\n",
      "- Sustainable Fashion Institute\n",
      "- Fashion Revolution\n",
      "- Ethical Fashion Forum\n",
      "- Sustainable Apparel Coalition\n",
      "\n",
      "Overall, this content plan aims to provide valuable insights into the latest trends, key players, and noteworthy news in sustainable fashion for a diverse audience interested in making informed decisions in their fashion choices.\u001b[0m\n",
      "\n",
      "\u001b[1m> Finished chain.\u001b[0m\n",
      "\u001b[1m\u001b[92m [DEBUG]: == [Content Planner] Task output: Content Plan:\n",
      "\n",
      "Title: Exploring the Latest Trends in Sustainable Fashion\n",
      "\n",
      "Introduction:\n",
      "- Brief overview of the growing importance of sustainable fashion in the industry\n",
      "- Introduce the key players and brands leading the way in sustainable practices\n",
      "\n",
      "Key Points:\n",
      "1. Latest Trends in Sustainable Fashion:\n",
      "- Focus on eco-friendly materials such as organic cotton, Tencel, and recycled fabrics\n",
      "- Highlight the rise of circular fashion and upcycling in the industry\n",
      "- Discuss the importance of transparency and ethical practices in supply chains\n",
      "\n",
      "2. Key Players in Sustainable Fashion:\n",
      "- Profile leading sustainable fashion brands such as Patagonia, Eileen Fisher, and Stella McCartney\n",
      "- Showcase collaborations between designers and sustainable initiatives\n",
      "\n",
      "3. Noteworthy News in Sustainable Fashion:\n",
      "- Cover recent developments in sustainable fashion technology, such as waterless dyeing and 3D knitting\n",
      "- Discuss the impact of COVID-19 on sustainable fashion practices and consumer awareness\n",
      "\n",
      "Call to Action:\n",
      "- Encourage readers to support sustainable fashion by shopping from ethical brands and educating themselves on sustainable practices\n",
      "- Provide resources for further reading and exploration of sustainable fashion\n",
      "\n",
      "SEO Keywords:\n",
      "- Sustainable fashion trends\n",
      "- Eco-friendly materials in fashion\n",
      "- Circular fashion practices\n",
      "- Ethical fashion brands\n",
      "- Sustainable fashion news\n",
      "\n",
      "Audience Analysis:\n",
      "Target Audience: Fashion enthusiasts, environmentally conscious consumers, and industry professionals\n",
      "Interests: Sustainable fashion, ethical consumerism, innovation in the fashion industry\n",
      "Pain Points: Lack of information on sustainable fashion options, desire to make ethical purchasing decisions\n",
      "\n",
      "Resources:\n",
      "- Sustainable Fashion Institute\n",
      "- Fashion Revolution\n",
      "- Ethical Fashion Forum\n",
      "- Sustainable Apparel Coalition\n",
      "\n",
      "Overall, this content plan aims to provide valuable insights into the latest trends, key players, and noteworthy news in sustainable fashion for a diverse audience interested in making informed decisions in their fashion choices.\n",
      "\n",
      "\u001b[00m\n",
      "\u001b[1m\u001b[95m [DEBUG]: == Working Agent: Content Writer\u001b[00m\n",
      "\u001b[1m\u001b[95m [INFO]: == Starting Task: 1. Use the content plan to craft a compelling blog post on YOUR TOPIC HERE.\n",
      "2. Incorporate SEO keywords naturally.\n",
      "3. Sections/Subtitles are properly named in an engaging manner.\n",
      "4. Ensure the post is structured with an engaging introduction, insightful body, and a summarizing conclusion.\n",
      "5. Proofread for grammatical errors and alignment with the brand's voice.\n",
      "\u001b[00m\n",
      "\n",
      "\n",
      "\u001b[1m> Entering new CrewAgentExecutor chain...\u001b[0m\n",
      "\u001b[32;1m\u001b[1;3mI now can give a great answer\n",
      "\n",
      "Final Answer:\n",
      "\n",
      "# Exploring the Latest Trends in Sustainable Fashion\n",
      "\n",
      "In recent years, the fashion industry has seen a significant shift towards sustainability, with more brands and consumers becoming aware of the environmental and ethical impact of their clothing choices. The growing importance of sustainable fashion is evident in the increasing use of eco-friendly materials such as organic cotton, Tencel, and recycled fabrics. These materials not only reduce the carbon footprint of the fashion industry but also promote a more circular economy by reusing existing resources.\n",
      "\n",
      "Circular fashion and upcycling have also emerged as key trends in sustainable fashion, with designers and brands finding creative ways to repurpose old garments and reduce waste. The focus on transparency and ethical practices in the supply chain is another crucial trend, as consumers demand more information about how their clothes are made and the impact they have on the environment and communities.\n",
      "\n",
      "### Key Players in Sustainable Fashion\n",
      "\n",
      "Leading the way in sustainable practices are brands like Patagonia, known for their commitment to using recycled materials and promoting fair labor practices. Eileen Fisher is another notable brand that emphasizes sustainability through their take-back program, where customers can return old garments to be upcycled into new pieces. Stella McCartney is a pioneer in cruelty-free fashion, using innovative materials like vegan leather and promoting animal welfare in the industry.\n",
      "\n",
      "Collaborations between designers and sustainable initiatives have also become more common, with partnerships that aim to raise awareness about environmental issues and promote sustainable practices in the fashion industry. These collaborations not only drive innovation but also showcase the potential for positive change when creative minds come together for a common cause.\n",
      "\n",
      "### Noteworthy News in Sustainable Fashion\n",
      "\n",
      "Recent developments in sustainable fashion technology have brought about exciting advancements, such as waterless dyeing techniques and 3D knitting that reduce water and energy consumption in the production process. These innovations not only make fashion more sustainable but also challenge traditional practices and pave the way for a more eco-conscious industry.\n",
      "\n",
      "The impact of COVID-19 on sustainable fashion practices and consumer awareness has been significant, with more people reevaluating their consumption habits and opting for ethical and sustainable choices. The pandemic has highlighted the importance of resilience and adaptability in the fashion industry, urging brands to prioritize sustainability and social responsibility in their business models.\n",
      "\n",
      "### Call to Action\n",
      "\n",
      "As we navigate the ever-changing landscape of the fashion industry, it is crucial for consumers to support sustainable fashion by choosing ethical brands and educating themselves on sustainable practices. By making informed decisions and advocating for change, we can all contribute to a more sustainable future for the fashion industry and the planet. To learn more about sustainable fashion and how you can make a difference, explore resources like the Sustainable Fashion Institute, Fashion Revolution, Ethical Fashion Forum, and Sustainable Apparel Coalition.\n",
      "\n",
      "In conclusion, sustainable fashion is not just a trend but a movement towards a more conscious and responsible industry. By staying informed, supporting ethical brands, and embracing innovation, we can all play a part in shaping a more sustainable future for fashion and the world. Let's continue to explore, collaborate, and advocate for positive change in the fashion industry.\u001b[0m\n",
      "\n",
      "\u001b[1m> Finished chain.\u001b[0m\n",
      "\u001b[1m\u001b[92m [DEBUG]: == [Content Writer] Task output: # Exploring the Latest Trends in Sustainable Fashion\n",
      "\n",
      "In recent years, the fashion industry has seen a significant shift towards sustainability, with more brands and consumers becoming aware of the environmental and ethical impact of their clothing choices. The growing importance of sustainable fashion is evident in the increasing use of eco-friendly materials such as organic cotton, Tencel, and recycled fabrics. These materials not only reduce the carbon footprint of the fashion industry but also promote a more circular economy by reusing existing resources.\n",
      "\n",
      "Circular fashion and upcycling have also emerged as key trends in sustainable fashion, with designers and brands finding creative ways to repurpose old garments and reduce waste. The focus on transparency and ethical practices in the supply chain is another crucial trend, as consumers demand more information about how their clothes are made and the impact they have on the environment and communities.\n",
      "\n",
      "### Key Players in Sustainable Fashion\n",
      "\n",
      "Leading the way in sustainable practices are brands like Patagonia, known for their commitment to using recycled materials and promoting fair labor practices. Eileen Fisher is another notable brand that emphasizes sustainability through their take-back program, where customers can return old garments to be upcycled into new pieces. Stella McCartney is a pioneer in cruelty-free fashion, using innovative materials like vegan leather and promoting animal welfare in the industry.\n",
      "\n",
      "Collaborations between designers and sustainable initiatives have also become more common, with partnerships that aim to raise awareness about environmental issues and promote sustainable practices in the fashion industry. These collaborations not only drive innovation but also showcase the potential for positive change when creative minds come together for a common cause.\n",
      "\n",
      "### Noteworthy News in Sustainable Fashion\n",
      "\n",
      "Recent developments in sustainable fashion technology have brought about exciting advancements, such as waterless dyeing techniques and 3D knitting that reduce water and energy consumption in the production process. These innovations not only make fashion more sustainable but also challenge traditional practices and pave the way for a more eco-conscious industry.\n",
      "\n",
      "The impact of COVID-19 on sustainable fashion practices and consumer awareness has been significant, with more people reevaluating their consumption habits and opting for ethical and sustainable choices. The pandemic has highlighted the importance of resilience and adaptability in the fashion industry, urging brands to prioritize sustainability and social responsibility in their business models.\n",
      "\n",
      "### Call to Action\n",
      "\n",
      "As we navigate the ever-changing landscape of the fashion industry, it is crucial for consumers to support sustainable fashion by choosing ethical brands and educating themselves on sustainable practices. By making informed decisions and advocating for change, we can all contribute to a more sustainable future for the fashion industry and the planet. To learn more about sustainable fashion and how you can make a difference, explore resources like the Sustainable Fashion Institute, Fashion Revolution, Ethical Fashion Forum, and Sustainable Apparel Coalition.\n",
      "\n",
      "In conclusion, sustainable fashion is not just a trend but a movement towards a more conscious and responsible industry. By staying informed, supporting ethical brands, and embracing innovation, we can all play a part in shaping a more sustainable future for fashion and the world. Let's continue to explore, collaborate, and advocate for positive change in the fashion industry.\n",
      "\n",
      "\u001b[00m\n",
      "\u001b[1m\u001b[95m [DEBUG]: == Working Agent: Editor\u001b[00m\n",
      "\u001b[1m\u001b[95m [INFO]: == Starting Task: Proofread the given blog post for grammatical errors and alignment with the brand's voice.\u001b[00m\n",
      "\n",
      "\n",
      "\u001b[1m> Entering new CrewAgentExecutor chain...\u001b[0m\n"
     ]
    },
    {
     "name": "stdout",
     "output_type": "stream",
     "text": [
      "\u001b[32;1m\u001b[1;3mI now can edit this blog post to align with the brand's voice and make sure it follows journalistic best practices.\n",
      "\n",
      "Final Answer:\n",
      "# Exploring the Latest Trends in Sustainable Fashion\n",
      "\n",
      "Over the past few years, the fashion industry has experienced a notable shift towards sustainability, as both brands and consumers have become increasingly conscious of the environmental and ethical implications of their clothing choices. This growing emphasis on sustainable fashion is reflected in the rising use of eco-friendly materials like organic cotton, Tencel, and recycled fabrics. Not only do these materials help reduce the carbon footprint of the fashion industry, but they also support a more circular economy by repurposing existing resources.\n",
      "\n",
      "Circular fashion and upcycling have emerged as significant trends in sustainable fashion, with designers and brands exploring innovative ways to give new life to old garments and minimize waste. Additionally, there is a noticeable focus on transparency and ethical practices within the supply chain, driven by consumer demand for greater insight into the production process and the impact of their clothing on the environment and communities.\n",
      "\n",
      "### Key Players in Sustainable Fashion\n",
      "\n",
      "Leading the charge in sustainable practices are brands like Patagonia, renowned for their use of recycled materials and advocacy for fair labor practices. Another standout brand is Eileen Fisher, which prioritizes sustainability through initiatives like their take-back program, allowing customers to return old garments for upcycling into new pieces. Stella McCartney is a trailblazer in cruelty-free fashion, utilizing innovative materials such as vegan leather and championing animal welfare in the industry.\n",
      "\n",
      "Collaborations between designers and sustainable initiatives have become more prevalent, showcasing partnerships that aim to raise awareness of environmental issues and foster sustainable practices in the fashion sector. These collaborations not only drive innovation but also underscore the potential for positive change when creative minds unite for a common purpose.\n",
      "\n",
      "### Noteworthy News in Sustainable Fashion\n",
      "\n",
      "Recent advancements in sustainable fashion technology have led to exciting developments, including waterless dyeing techniques and 3D knitting processes that reduce water and energy consumption during production. These innovations not only enhance the sustainability of the fashion industry but also challenge traditional methods, paving the way for a more eco-conscious sector.\n",
      "\n",
      "The impact of COVID-19 on sustainable fashion practices and consumer awareness has been profound, prompting more individuals to reassess their consumption habits and opt for ethical and sustainable choices. The pandemic has underscored the importance of resilience and adaptability in the fashion industry, compelling brands to prioritize sustainability and social responsibility in their operations.\n",
      "\n",
      "### Call to Action\n",
      "\n",
      "As we navigate the ever-evolving landscape of the fashion industry, it is imperative for consumers to support sustainable fashion by choosing ethical brands and educating themselves on sustainable practices. By making informed decisions and advocating for change, we can all contribute to a more sustainable future for the fashion industry and the planet. To delve deeper into sustainable fashion and learn how you can make a meaningful impact, explore resources such as the Sustainable Fashion Institute, Fashion Revolution, Ethical Fashion Forum, and Sustainable Apparel Coalition.\n",
      "\n",
      "In conclusion, sustainable fashion transcends being a mere trend; it represents a movement towards a more conscious and responsible industry. By staying informed, supporting ethical brands, and embracing innovation, we can all play a role in shaping a sustainable future for fashion and the world. Let's continue to explore, collaborate, and advocate for positive change in the fashion industry.\u001b[0m\n",
      "\n",
      "\u001b[1m> Finished chain.\u001b[0m\n",
      "\u001b[1m\u001b[92m [DEBUG]: == [Editor] Task output: # Exploring the Latest Trends in Sustainable Fashion\n",
      "\n",
      "Over the past few years, the fashion industry has experienced a notable shift towards sustainability, as both brands and consumers have become increasingly conscious of the environmental and ethical implications of their clothing choices. This growing emphasis on sustainable fashion is reflected in the rising use of eco-friendly materials like organic cotton, Tencel, and recycled fabrics. Not only do these materials help reduce the carbon footprint of the fashion industry, but they also support a more circular economy by repurposing existing resources.\n",
      "\n",
      "Circular fashion and upcycling have emerged as significant trends in sustainable fashion, with designers and brands exploring innovative ways to give new life to old garments and minimize waste. Additionally, there is a noticeable focus on transparency and ethical practices within the supply chain, driven by consumer demand for greater insight into the production process and the impact of their clothing on the environment and communities.\n",
      "\n",
      "### Key Players in Sustainable Fashion\n",
      "\n",
      "Leading the charge in sustainable practices are brands like Patagonia, renowned for their use of recycled materials and advocacy for fair labor practices. Another standout brand is Eileen Fisher, which prioritizes sustainability through initiatives like their take-back program, allowing customers to return old garments for upcycling into new pieces. Stella McCartney is a trailblazer in cruelty-free fashion, utilizing innovative materials such as vegan leather and championing animal welfare in the industry.\n",
      "\n",
      "Collaborations between designers and sustainable initiatives have become more prevalent, showcasing partnerships that aim to raise awareness of environmental issues and foster sustainable practices in the fashion sector. These collaborations not only drive innovation but also underscore the potential for positive change when creative minds unite for a common purpose.\n",
      "\n",
      "### Noteworthy News in Sustainable Fashion\n",
      "\n",
      "Recent advancements in sustainable fashion technology have led to exciting developments, including waterless dyeing techniques and 3D knitting processes that reduce water and energy consumption during production. These innovations not only enhance the sustainability of the fashion industry but also challenge traditional methods, paving the way for a more eco-conscious sector.\n",
      "\n",
      "The impact of COVID-19 on sustainable fashion practices and consumer awareness has been profound, prompting more individuals to reassess their consumption habits and opt for ethical and sustainable choices. The pandemic has underscored the importance of resilience and adaptability in the fashion industry, compelling brands to prioritize sustainability and social responsibility in their operations.\n",
      "\n",
      "### Call to Action\n",
      "\n",
      "As we navigate the ever-evolving landscape of the fashion industry, it is imperative for consumers to support sustainable fashion by choosing ethical brands and educating themselves on sustainable practices. By making informed decisions and advocating for change, we can all contribute to a more sustainable future for the fashion industry and the planet. To delve deeper into sustainable fashion and learn how you can make a meaningful impact, explore resources such as the Sustainable Fashion Institute, Fashion Revolution, Ethical Fashion Forum, and Sustainable Apparel Coalition.\n",
      "\n",
      "In conclusion, sustainable fashion transcends being a mere trend; it represents a movement towards a more conscious and responsible industry. By staying informed, supporting ethical brands, and embracing innovation, we can all play a role in shaping a sustainable future for fashion and the world. Let's continue to explore, collaborate, and advocate for positive change in the fashion industry.\n",
      "\n",
      "\u001b[00m\n"
     ]
    }
   ],
   "source": [
    "topic = \"YOUR TOPIC HERE\"\n",
    "result = crew.kickoff(inputs={\"topic\": topic})"
   ]
  },
  {
   "cell_type": "code",
   "execution_count": 14,
   "metadata": {
    "height": 29
   },
   "outputs": [
    {
     "data": {
      "text/markdown": [
       "# Exploring the Latest Trends in Sustainable Fashion\n",
       "\n",
       "Over the past few years, the fashion industry has experienced a notable shift towards sustainability, as both brands and consumers have become increasingly conscious of the environmental and ethical implications of their clothing choices. This growing emphasis on sustainable fashion is reflected in the rising use of eco-friendly materials like organic cotton, Tencel, and recycled fabrics. Not only do these materials help reduce the carbon footprint of the fashion industry, but they also support a more circular economy by repurposing existing resources.\n",
       "\n",
       "Circular fashion and upcycling have emerged as significant trends in sustainable fashion, with designers and brands exploring innovative ways to give new life to old garments and minimize waste. Additionally, there is a noticeable focus on transparency and ethical practices within the supply chain, driven by consumer demand for greater insight into the production process and the impact of their clothing on the environment and communities.\n",
       "\n",
       "### Key Players in Sustainable Fashion\n",
       "\n",
       "Leading the charge in sustainable practices are brands like Patagonia, renowned for their use of recycled materials and advocacy for fair labor practices. Another standout brand is Eileen Fisher, which prioritizes sustainability through initiatives like their take-back program, allowing customers to return old garments for upcycling into new pieces. Stella McCartney is a trailblazer in cruelty-free fashion, utilizing innovative materials such as vegan leather and championing animal welfare in the industry.\n",
       "\n",
       "Collaborations between designers and sustainable initiatives have become more prevalent, showcasing partnerships that aim to raise awareness of environmental issues and foster sustainable practices in the fashion sector. These collaborations not only drive innovation but also underscore the potential for positive change when creative minds unite for a common purpose.\n",
       "\n",
       "### Noteworthy News in Sustainable Fashion\n",
       "\n",
       "Recent advancements in sustainable fashion technology have led to exciting developments, including waterless dyeing techniques and 3D knitting processes that reduce water and energy consumption during production. These innovations not only enhance the sustainability of the fashion industry but also challenge traditional methods, paving the way for a more eco-conscious sector.\n",
       "\n",
       "The impact of COVID-19 on sustainable fashion practices and consumer awareness has been profound, prompting more individuals to reassess their consumption habits and opt for ethical and sustainable choices. The pandemic has underscored the importance of resilience and adaptability in the fashion industry, compelling brands to prioritize sustainability and social responsibility in their operations.\n",
       "\n",
       "### Call to Action\n",
       "\n",
       "As we navigate the ever-evolving landscape of the fashion industry, it is imperative for consumers to support sustainable fashion by choosing ethical brands and educating themselves on sustainable practices. By making informed decisions and advocating for change, we can all contribute to a more sustainable future for the fashion industry and the planet. To delve deeper into sustainable fashion and learn how you can make a meaningful impact, explore resources such as the Sustainable Fashion Institute, Fashion Revolution, Ethical Fashion Forum, and Sustainable Apparel Coalition.\n",
       "\n",
       "In conclusion, sustainable fashion transcends being a mere trend; it represents a movement towards a more conscious and responsible industry. By staying informed, supporting ethical brands, and embracing innovation, we can all play a role in shaping a sustainable future for fashion and the world. Let's continue to explore, collaborate, and advocate for positive change in the fashion industry."
      ],
      "text/plain": [
       "<IPython.core.display.Markdown object>"
      ]
     },
     "execution_count": 14,
     "metadata": {},
     "output_type": "execute_result"
    }
   ],
   "source": [
    "Markdown(result)"
   ]
  },
  {
   "cell_type": "markdown",
   "metadata": {},
   "source": [
    "<a name='1'></a>\n",
    " ## Other Popular Models as LLM for your Agents"
   ]
  },
  {
   "cell_type": "markdown",
   "metadata": {},
   "source": [
    "#### Hugging Face (HuggingFaceHub endpoint)\n",
    "\n",
    "```Python\n",
    "from langchain_community.llms import HuggingFaceHub\n",
    "\n",
    "llm = HuggingFaceHub(\n",
    "    repo_id=\"HuggingFaceH4/zephyr-7b-beta\",\n",
    "    huggingfacehub_api_token=\"<HF_TOKEN_HERE>\",\n",
    "    task=\"text-generation\",\n",
    ")\n",
    "\n",
    "### you will pass \"llm\" to your agent function\n",
    "```"
   ]
  },
  {
   "cell_type": "markdown",
   "metadata": {},
   "source": [
    "#### Mistral API\n",
    "\n",
    "```Python\n",
    "OPENAI_API_KEY=your-mistral-api-key\n",
    "OPENAI_API_BASE=https://api.mistral.ai/v1\n",
    "OPENAI_MODEL_NAME=\"mistral-small\"\n",
    "```"
   ]
  },
  {
   "cell_type": "markdown",
   "metadata": {},
   "source": [
    "#### Cohere\n",
    "\n",
    "```Python\n",
    "from langchain_community.chat_models import ChatCohere\n",
    "# Initialize language model\n",
    "os.environ[\"COHERE_API_KEY\"] = \"your-cohere-api-key\"\n",
    "llm = ChatCohere()\n",
    "\n",
    "### you will pass \"llm\" to your agent function\n",
    "```"
   ]
  },
  {
   "cell_type": "markdown",
   "metadata": {},
   "source": [
    "### For using Llama locally with Ollama and more, checkout the crewAI documentation on [Connecting to any LLM](https://docs.crewai.com/how-to/LLM-Connections/)."
   ]
  },
  {
   "cell_type": "code",
   "execution_count": null,
   "metadata": {
    "height": 29
   },
   "outputs": [],
   "source": []
  },
  {
   "cell_type": "code",
   "execution_count": null,
   "metadata": {
    "height": 29
   },
   "outputs": [],
   "source": []
  },
  {
   "cell_type": "code",
   "execution_count": null,
   "metadata": {
    "height": 29
   },
   "outputs": [],
   "source": []
  }
 ],
 "metadata": {
  "colab": {
   "gpuType": "T4",
   "provenance": []
  },
  "kernelspec": {
   "display_name": "Python 3 (ipykernel)",
   "language": "python",
   "name": "python3"
  },
  "language_info": {
   "codemirror_mode": {
    "name": "ipython",
    "version": 3
   },
   "file_extension": ".py",
   "mimetype": "text/x-python",
   "name": "python",
   "nbconvert_exporter": "python",
   "pygments_lexer": "ipython3",
   "version": "3.11.9"
  }
 },
 "nbformat": 4,
 "nbformat_minor": 4
}
